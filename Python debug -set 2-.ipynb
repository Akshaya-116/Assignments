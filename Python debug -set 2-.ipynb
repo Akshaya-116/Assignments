{
 "cells": [
  {
   "cell_type": "code",
   "execution_count": null,
   "id": "90e9fa4e",
   "metadata": {},
   "outputs": [],
   "source": [
    "#1.Find the error in the following Python code:\n",
    "import math\n",
    "print(Math.sqrt(16))\n"
   ]
  },
  {
   "cell_type": "code",
   "execution_count": 1,
   "id": "55c89aaf-41b9-4e19-9824-b3c12fc05184",
   "metadata": {},
   "outputs": [
    {
     "name": "stdout",
     "output_type": "stream",
     "text": [
      "4.0\n"
     ]
    }
   ],
   "source": [
    "import math\n",
    "print(math.sqrt(16))"
   ]
  },
  {
   "cell_type": "code",
   "execution_count": null,
   "id": "55520fd2",
   "metadata": {},
   "outputs": [],
   "source": [
    "#2.Find the error in the following Python code:\n",
    "def my_function():\n",
    "    x += 5\n",
    "    print(x)\n",
    "\n",
    "x = 10\n",
    "my_function()\n"
   ]
  },
  {
   "cell_type": "code",
   "execution_count": 5,
   "id": "06d96498-51aa-40ad-88d7-910ac81d7871",
   "metadata": {},
   "outputs": [
    {
     "name": "stdout",
     "output_type": "stream",
     "text": [
      "15\n"
     ]
    }
   ],
   "source": [
    "def my_function(x):\n",
    "    x += 5\n",
    "    print(x)\n",
    "\n",
    "x = 10\n",
    "my_function(x)"
   ]
  },
  {
   "cell_type": "code",
   "execution_count": null,
   "id": "f23899ca",
   "metadata": {},
   "outputs": [],
   "source": [
    "#3.x = 5\n",
    "if x = 10:\n",
    "    print(\"x is 10\")\n"
   ]
  },
  {
   "cell_type": "code",
   "execution_count": 7,
   "id": "7357b949-02bd-4677-8a80-dc2216c99b0f",
   "metadata": {},
   "outputs": [
    {
     "name": "stdout",
     "output_type": "stream",
     "text": [
      "x is 10\n"
     ]
    }
   ],
   "source": [
    "if x == 10:\n",
    "    print(\"x is 10\")\n"
   ]
  },
  {
   "cell_type": "code",
   "execution_count": null,
   "id": "c644c2f2",
   "metadata": {},
   "outputs": [],
   "source": [
    "#4.\n",
    "numbers = [5, 3, 8, 2]\n",
    "print(numbers.sort())\n"
   ]
  },
  {
   "cell_type": "code",
   "execution_count": 9,
   "id": "3b300d97-bbbf-40be-9ff4-759f3457bb3c",
   "metadata": {},
   "outputs": [
    {
     "name": "stdout",
     "output_type": "stream",
     "text": [
      "[2, 3, 5, 8]\n"
     ]
    }
   ],
   "source": [
    "numbers = [5, 3, 8, 2]\n",
    "numbers.sort()\n",
    "print(numbers)\n"
   ]
  },
  {
   "cell_type": "code",
   "execution_count": 15,
   "id": "c6bc9bfb",
   "metadata": {},
   "outputs": [
    {
     "name": "stdout",
     "output_type": "stream",
     "text": [
      "16\n"
     ]
    }
   ],
   "source": [
    "#5.\n",
    "def square(n):\n",
    "    return n*n\n",
    "\n",
    "print(square(4))\n"
   ]
  },
  {
   "cell_type": "code",
   "execution_count": null,
   "id": "3a9dbcc0",
   "metadata": {},
   "outputs": [],
   "source": [
    "#6.\n",
    "my_tuple = (1, 2, 3)\n",
    "my_tuple[1] = 5\n"
   ]
  },
  {
   "cell_type": "code",
   "execution_count": 17,
   "id": "978beeb0-6146-4597-bee9-8faa75a26468",
   "metadata": {},
   "outputs": [
    {
     "name": "stdout",
     "output_type": "stream",
     "text": [
      "(1, 5, 3)\n"
     ]
    }
   ],
   "source": [
    "my_tuple=(1,2,3)\n",
    "new_tuple=(my_tuple[0],5,my_tuple[2])\n",
    "print(new_tuple)"
   ]
  },
  {
   "cell_type": "code",
   "execution_count": null,
   "id": "4a72685b",
   "metadata": {},
   "outputs": [],
   "source": [
    "#7.\n",
    "name = \"Alice\"\n",
    "age = 25\n",
    "print(\"My name is %s and I am %d years old\" % (name))\n"
   ]
  },
  {
   "cell_type": "code",
   "execution_count": 19,
   "id": "71be59c0-cf20-4fa0-87ea-5897068b8470",
   "metadata": {},
   "outputs": [
    {
     "name": "stdout",
     "output_type": "stream",
     "text": [
      "My name is Alice and I am 25 years old\n"
     ]
    }
   ],
   "source": [
    "name = \"Alice\"\n",
    "age = 25\n",
    "print(\"My name is %s and I am %d years old\" % (name,age))\n"
   ]
  },
  {
   "cell_type": "code",
   "execution_count": null,
   "id": "3de969fe",
   "metadata": {},
   "outputs": [],
   "source": [
    "#8.\n",
    "a = [1, 2, 3]\n",
    "b = [1, 2, 3]\n",
    "if a is b:\n",
    "    print(\"Lists are equal\")\n"
   ]
  },
  {
   "cell_type": "code",
   "execution_count": 27,
   "id": "6f0673b5-9fbf-4fcc-9dd3-735b6eb08257",
   "metadata": {},
   "outputs": [
    {
     "name": "stdout",
     "output_type": "stream",
     "text": [
      "Lists are equal\n"
     ]
    }
   ],
   "source": [
    "a = [1, 2, 3]\n",
    "b = [1, 2, 3]\n",
    "if a==b:\n",
    "    print(\"Lists are equal\")"
   ]
  },
  {
   "cell_type": "code",
   "execution_count": null,
   "id": "dbe38465",
   "metadata": {},
   "outputs": [],
   "source": [
    "#9.\n",
    "for i in range(5, 1):\n",
    "    print(i)\n"
   ]
  },
  {
   "cell_type": "code",
   "execution_count": 29,
   "id": "8caa4ace-6662-488e-913b-e4de4cace76c",
   "metadata": {},
   "outputs": [
    {
     "name": "stdout",
     "output_type": "stream",
     "text": [
      "5\n",
      "4\n",
      "3\n",
      "2\n"
     ]
    }
   ],
   "source": [
    "for i in range(5, 1,-1):\n",
    "    print(i)"
   ]
  },
  {
   "cell_type": "code",
   "execution_count": 37,
   "id": "30cb0523",
   "metadata": {},
   "outputs": [
    {
     "name": "stdout",
     "output_type": "stream",
     "text": [
      "John\n"
     ]
    }
   ],
   "source": [
    "#10.\n",
    "student = {\"name\": \"John\", \"age\": 20}\n",
    "print(student[\"name\"])\n"
   ]
  },
  {
   "cell_type": "code",
   "execution_count": null,
   "id": "2817b861-0f2c-4e68-8328-08e77b7f2db2",
   "metadata": {},
   "outputs": [],
   "source": []
  }
 ],
 "metadata": {
  "kernelspec": {
   "display_name": "Python [conda env:base] *",
   "language": "python",
   "name": "conda-base-py"
  },
  "language_info": {
   "codemirror_mode": {
    "name": "ipython",
    "version": 3
   },
   "file_extension": ".py",
   "mimetype": "text/x-python",
   "name": "python",
   "nbconvert_exporter": "python",
   "pygments_lexer": "ipython3",
   "version": "3.12.7"
  }
 },
 "nbformat": 4,
 "nbformat_minor": 5
}
