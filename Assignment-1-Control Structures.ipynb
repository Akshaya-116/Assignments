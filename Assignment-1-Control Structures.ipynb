{
 "cells": [
  {
   "cell_type": "code",
   "execution_count": 4,
   "id": "6be9ece0-d084-4118-a3ab-70a318acbf92",
   "metadata": {},
   "outputs": [
    {
     "name": "stdout",
     "output_type": "stream",
     "text": [
      " Welcome to Assignment-1\n"
     ]
    }
   ],
   "source": [
    "print(\" Welcome to Assignment-1\")"
   ]
  },
  {
   "cell_type": "code",
   "execution_count": 5,
   "id": "0d9db2a2-65a2-4fe9-9f65-f4a1faad8180",
   "metadata": {},
   "outputs": [],
   "source": [
    "Num1= 10\n",
    "Num2= 30\n",
    "add=Num1+Num2"
   ]
  },
  {
   "cell_type": "code",
   "execution_count": 6,
   "id": "eb0362bf-9275-4fcf-aec9-71e42e3f5320",
   "metadata": {},
   "outputs": [
    {
     "name": "stdout",
     "output_type": "stream",
     "text": [
      "Num1= 10\n",
      "Num2= 30\n",
      "40\n"
     ]
    }
   ],
   "source": [
    "print(\"Num1=\",Num1)\n",
    "print(\"Num2=\",Num2)\n",
    "print(add)\n"
   ]
  },
  {
   "cell_type": "code",
   "execution_count": 7,
   "id": "cf3bcb9b-5c47-41e9-ad0d-e78362227b92",
   "metadata": {},
   "outputs": [],
   "source": [
    " #Body Mass Index"
   ]
  },
  {
   "cell_type": "code",
   "execution_count": 8,
   "id": "69d5bd42-bb6b-4adc-8cf6-ef96bf493157",
   "metadata": {
    "scrolled": true
   },
   "outputs": [
    {
     "name": "stdout",
     "output_type": "stream",
     "text": [
      "Enter the BMI Index: 34\n",
      "Obese-class 1\n"
     ]
    }
   ],
   "source": [
    "weight=34\n",
    "print(\"Enter the BMI Index:\",weight)\n",
    "if(weight<18.5):\n",
    "    print(\"Underweight\")\n",
    "elif(weight<24.9):\n",
    "    print(\"Normal weight\")\n",
    "elif(weight<29.9):\n",
    "    print(\"Obese\")\n",
    "elif(weight<34.9):\n",
    "    print(\"Obese-class 1\")\n",
    "elif(weight<39.9):\n",
    "    print(\"Obese-class 2\")\n",
    "else:\n",
    "    print(\"Obese-class 3\")\n"
   ]
  },
  {
   "cell_type": "code",
   "execution_count": null,
   "id": "9019c25e-b3ac-4820-a9f8-72672127cc58",
   "metadata": {},
   "outputs": [],
   "source": []
  },
  {
   "cell_type": "code",
   "execution_count": null,
   "id": "dc821bc4-45bc-46c4-bd4c-0852599e2102",
   "metadata": {},
   "outputs": [],
   "source": []
  }
 ],
 "metadata": {
  "kernelspec": {
   "display_name": "Python [conda env:base] *",
   "language": "python",
   "name": "conda-base-py"
  },
  "language_info": {
   "codemirror_mode": {
    "name": "ipython",
    "version": 3
   },
   "file_extension": ".py",
   "mimetype": "text/x-python",
   "name": "python",
   "nbconvert_exporter": "python",
   "pygments_lexer": "ipython3",
   "version": "3.12.7"
  }
 },
 "nbformat": 4,
 "nbformat_minor": 5
}
