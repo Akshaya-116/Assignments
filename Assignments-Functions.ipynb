{
 "cells": [
  {
   "cell_type": "code",
   "execution_count": 1,
   "id": "9c024368-1338-40e7-8b42-339f0580b3e8",
   "metadata": {},
   "outputs": [],
   "source": [
    "def Subfields():\n",
    "    subfieldlist=[\n",
    "                  \"Machine Learning\",\n",
    "                  \"Neural Networks\", \n",
    "                  \"Vision\",\n",
    "                  \"Robotics\",\n",
    "                  \"Speech Processing\",\n",
    "                  \"Natural Language Processing\"\n",
    "                 ]\n",
    "    print(\"Sub-fields in AI are:\")\n",
    "    for subfields in subfieldlist:\n",
    "     print(subfields)\n",
    "\n",
    "       "
   ]
  },
  {
   "cell_type": "code",
   "execution_count": 33,
   "id": "7a994868-4483-4119-9163-29f813018e94",
   "metadata": {},
   "outputs": [
    {
     "name": "stdout",
     "output_type": "stream",
     "text": [
      "Sub-fields in AI are:\n",
      "Machine Learning\n",
      "Neural Networks\n",
      "Vision\n",
      "Robotics\n",
      "Speech Processing\n",
      "Natural Language Processing\n"
     ]
    }
   ],
   "source": [
    "Subfields()"
   ]
  },
  {
   "cell_type": "code",
   "execution_count": null,
   "id": "9b2ff0ed-87de-41fd-ba52-dea847868231",
   "metadata": {},
   "outputs": [],
   "source": [
    "#create function"
   ]
  },
  {
   "cell_type": "code",
   "execution_count": 53,
   "id": "b5394bb2-70f3-473c-b147-2de9f4e43271",
   "metadata": {},
   "outputs": [],
   "source": [
    "def OddEven(num):\n",
    "    if ((num%2)==0):\n",
    "        print(\"Enter a number:\",num)\n",
    "        print(num,\"is even number\")\n",
    "    else:\n",
    "         print(num,\"is odd number\")\n",
    "         "
   ]
  },
  {
   "cell_type": "code",
   "execution_count": 55,
   "id": "dfffd899-6e7e-4f23-91dc-c10cb58f42d9",
   "metadata": {},
   "outputs": [
    {
     "name": "stdout",
     "output_type": "stream",
     "text": [
      "Enter a number: 4\n",
      "4 is even number\n"
     ]
    }
   ],
   "source": [
    "OddEven(4)"
   ]
  },
  {
   "cell_type": "code",
   "execution_count": 33,
   "id": "dd1584ff-1c56-4d8a-b748-e75d52bab98f",
   "metadata": {},
   "outputs": [],
   "source": [
    "def Elegible():\n",
    " gender=\"Male\"\n",
    " age=18\n",
    " print(\"Your Gender:\",gender)\n",
    " print(\"Your Age:\",age)\n",
    " if (gender==\"Male\"and age>=21) or(gender==\"Female\"and age>=18):\n",
    "     print(\"ELIGIBLE\")\n",
    " else:\n",
    "     print(\"NOT ELIGIBLE\")"
   ]
  },
  {
   "cell_type": "code",
   "execution_count": 35,
   "id": "fb064790-628a-48e9-9ba3-45b1814c999c",
   "metadata": {},
   "outputs": [
    {
     "name": "stdout",
     "output_type": "stream",
     "text": [
      "Your Gender: Male\n",
      "Your Age: 18\n",
      "NOT ELIGIBLE\n"
     ]
    }
   ],
   "source": [
    "Elegible()"
   ]
  },
  {
   "cell_type": "code",
   "execution_count": 17,
   "id": "28c24e73-1c14-4bfc-8664-e8de94066e92",
   "metadata": {},
   "outputs": [],
   "source": [
    "def percentage():\n",
    "    subject1 = 23\n",
    "    subject2 = 45\n",
    "    subject3 = 34\n",
    "    subject4 = 23\n",
    "    subject5 = 23\n",
    "    print(\"Enter marks for Subject 1:\",subject1)\n",
    "    print(\"Enter marks for Subject 2:\",subject2)\n",
    "    print(\"Enter marks for Subject 3:\",subject3)\n",
    "    print(\"Enter marks for Subject 4:\",subject4)\n",
    "    print(\"Enter marks for Subject 5:\",subject5)\n",
    "    total = subject1 + subject2 + subject3 + subject4 + subject5\n",
    "    percentage = (total / 500) * 100\n",
    "    print(\"Total:\", total)\n",
    "    print(\"Percentage:\", percentage)"
   ]
  },
  {
   "cell_type": "code",
   "execution_count": 19,
   "id": "b8e174c1-82f5-4a8e-80a2-1dada45aff47",
   "metadata": {},
   "outputs": [
    {
     "name": "stdout",
     "output_type": "stream",
     "text": [
      "Enter marks for Subject 1: 23\n",
      "Enter marks for Subject 2: 45\n",
      "Enter marks for Subject 3: 34\n",
      "Enter marks for Subject 4: 23\n",
      "Enter marks for Subject 5: 23\n",
      "Total: 148\n",
      "Percentage: 29.599999999999998\n"
     ]
    }
   ],
   "source": [
    "percentage()\n"
   ]
  },
  {
   "cell_type": "code",
   "execution_count": 25,
   "id": "a0e3f598-c107-4416-b470-293942e8c714",
   "metadata": {},
   "outputs": [],
   "source": [
    "def triangle():\n",
    "    height = 3\n",
    "    breadth = 4\n",
    "    print(\"height=\",height)\n",
    "    print(\"breadth=\",breadth)\n",
    "    Areaformula=(height*breadth)/2\n",
    "    print(\"Area formula: (Height*Breadth)/2 \")\n",
    "    print(\"Area of triangle:\",Areaformula)\n",
    "    height1 =3\n",
    "    height2 =4\n",
    "    breadth =45\n",
    "    print(\"height1 =\",height1)\n",
    "    print(\"height2=\",height2)\n",
    "    print(\"breadth=\",breadth)\n",
    "    perimeter = height1 + height2 + breadth\n",
    "    print(\"Perimeter formula: Height1+Height2+Breadth\")\n",
    "    print(\"Perimeter of Triangle:\", perimeter)\n",
    "    "
   ]
  },
  {
   "cell_type": "code",
   "execution_count": 27,
   "id": "62f80c36-8526-4e94-afb5-5dd4d82d9766",
   "metadata": {},
   "outputs": [
    {
     "name": "stdout",
     "output_type": "stream",
     "text": [
      "height= 3\n",
      "breadth= 4\n",
      "Area formula: (Height*Breadth)/2 \n",
      "Area of triangle: 6.0\n",
      "height1 = 3\n",
      "height2= 4\n",
      "breadth= 45\n",
      "Perimeter formula: Height1+Height2+Breadth\n",
      "Perimeter of Triangle: 52\n"
     ]
    }
   ],
   "source": [
    "triangle()\n"
   ]
  },
  {
   "cell_type": "code",
   "execution_count": null,
   "id": "99e78fc5-a806-48ed-be95-d5d1857adba4",
   "metadata": {},
   "outputs": [],
   "source": []
  }
 ],
 "metadata": {
  "kernelspec": {
   "display_name": "Python [conda env:base] *",
   "language": "python",
   "name": "conda-base-py"
  },
  "language_info": {
   "codemirror_mode": {
    "name": "ipython",
    "version": 3
   },
   "file_extension": ".py",
   "mimetype": "text/x-python",
   "name": "python",
   "nbconvert_exporter": "python",
   "pygments_lexer": "ipython3",
   "version": "3.12.7"
  }
 },
 "nbformat": 4,
 "nbformat_minor": 5
}
