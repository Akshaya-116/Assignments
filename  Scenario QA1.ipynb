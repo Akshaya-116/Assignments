{
 "cells": [
  {
   "cell_type": "code",
   "execution_count": null,
   "id": "fe06c192-2896-4398-9d78-7230717c13e7",
   "metadata": {},
   "outputs": [],
   "source": [
    "1.  Scenario: A system checks if a user is eligible to vote based on their age. "
   ]
  },
  {
   "cell_type": "code",
   "execution_count": 1,
   "id": "de605b69-de20-4fe3-8676-5af75b2e2dcc",
   "metadata": {},
   "outputs": [
    {
     "name": "stdin",
     "output_type": "stream",
     "text": [
      "ENTER THE AGE: 17\n"
     ]
    },
    {
     "name": "stdout",
     "output_type": "stream",
     "text": [
      "ENTER THE AGE: 17\n",
      "Not Eligible to vote\n"
     ]
    }
   ],
   "source": [
    "age=int(input(\"ENTER THE AGE:\"))\n",
    "print(\"ENTER THE AGE:\",age)\n",
    "if (age>=18):\n",
    "    print(\"Eligible to vote\")\n",
    "else:\n",
    "    print(\"Not Eligible to vote\") "
   ]
  },
  {
   "cell_type": "code",
   "execution_count": null,
   "id": "72ced784-c6ed-48ac-9e2e-809da61e0034",
   "metadata": {},
   "outputs": [],
   "source": [
    "2. Scenario: A program processes a list of numbers and needs to find the largest value."
   ]
  },
  {
   "cell_type": "code",
   "execution_count": 6,
   "id": "94db2323-35c0-43b8-afb2-754c049edd85",
   "metadata": {},
   "outputs": [
    {
     "name": "stdout",
     "output_type": "stream",
     "text": [
      "Largest number: 9\n"
     ]
    }
   ],
   "source": [
    "def find_largest(numbers): \n",
    "    largest = numbers[0]  \n",
    "        if num > largest:  \n",
    "            largest = num  \n",
    "    return largest\n",
    "numbers_list = [3, 7, 2, 9, 5]\n",
    "print(\"Largest number:\", find_largest(numbers_list))\n"
   ]
  },
  {
   "cell_type": "code",
   "execution_count": null,
   "id": "6c98b654-173f-4d50-882a-7698c5c0a23d",
   "metadata": {},
   "outputs": [],
   "source": [
    "3. Scenario: A company provides employees with a 10% bonus if their salary exceeds \n",
    "$50,000. \n"
   ]
  },
  {
   "cell_type": "code",
   "execution_count": 32,
   "id": "7c599cfc-3e37-441d-8e02-883fce4b9eb5",
   "metadata": {},
   "outputs": [],
   "source": [
    "def Bonus():\n",
    "    salary=float(input(\"Enter your salary:$\"))\n",
    "    if (salary>50000):\n",
    "        bonus=salary*0.10\n",
    "    else:\n",
    "        bonus=0\n",
    "    print(\"Bonus amount: $\", bonus)\n",
    "    "
   ]
  },
  {
   "cell_type": "code",
   "execution_count": 36,
   "id": "f543b61d-3317-452f-a5e8-91e8f7293249",
   "metadata": {},
   "outputs": [
    {
     "name": "stdin",
     "output_type": "stream",
     "text": [
      "Enter your salary:$ 90000\n"
     ]
    },
    {
     "name": "stdout",
     "output_type": "stream",
     "text": [
      "Bonus amount: $ 9000.0\n"
     ]
    }
   ],
   "source": [
    "Bonus()\n"
   ]
  },
  {
   "cell_type": "code",
   "execution_count": null,
   "id": "3459f8ad-1a6a-415a-8b26-d7136b8a82bc",
   "metadata": {},
   "outputs": [],
   "source": [
    "4. Scenario: A program evaluates a number to determine if it is even or odd."
   ]
  },
  {
   "cell_type": "code",
   "execution_count": 5,
   "id": "2ae566c7-8d98-4525-b1be-c2771e80febd",
   "metadata": {},
   "outputs": [
    {
     "name": "stdin",
     "output_type": "stream",
     "text": [
      "Enter any number: 63\n"
     ]
    },
    {
     "name": "stdout",
     "output_type": "stream",
     "text": [
      "Enter any number: 63\n",
      "Odd\n"
     ]
    }
   ],
   "source": [
    "NO=int(input(\"Enter any number:\"))\n",
    "print(\"Enter any number:\",NO)\n",
    "if ((NO%2)==0):\n",
    "    print (\"Even\")\n",
    "else:\n",
    "    print(\"Odd\")"
   ]
  },
  {
   "cell_type": "code",
   "execution_count": null,
   "id": "2a9c1e77-e166-4f14-87d2-0a65b2d9b7d9",
   "metadata": {},
   "outputs": [],
   "source": [
    "5. Scenario: A text-processing tool reverses a given word or sentence for \n",
    "formatting purposes."
   ]
  },
  {
   "cell_type": "code",
   "execution_count": 48,
   "id": "2ad03a19-07df-4967-9a6f-93871323cbc1",
   "metadata": {},
   "outputs": [],
   "source": [
    "def reversetext():\n",
    " text=\"Artificial Intelligence\"\n",
    " reversedtext=\"\".join(reversed(text))\n",
    " print(\"Reversed:\", reversedtext)\n"
   ]
  },
  {
   "cell_type": "code",
   "execution_count": 50,
   "id": "4dec73a3-7cdb-43c9-ab4a-296ac2f66164",
   "metadata": {},
   "outputs": [
    {
     "name": "stdout",
     "output_type": "stream",
     "text": [
      "Reversed: ecnegilletnI laicifitrA\n"
     ]
    }
   ],
   "source": [
    "reversetext()\n"
   ]
  },
  {
   "cell_type": "code",
   "execution_count": null,
   "id": "43cd9a37-55a0-43fa-b384-9f410b6a6cd5",
   "metadata": {},
   "outputs": [],
   "source": [
    "6.  Scenario: A grading system determines whether a student has passed or failed \n",
    "based on their score"
   ]
  },
  {
   "cell_type": "code",
   "execution_count": 54,
   "id": "bb9e0127-9552-4be8-a879-d28c5d0ee1bd",
   "metadata": {},
   "outputs": [
    {
     "name": "stdout",
     "output_type": "stream",
     "text": [
      "Pass\n"
     ]
    }
   ],
   "source": [
    "Mark=96\n",
    "if (Mark>=40):\n",
    "    print(\"Pass\")\n",
    "else:\n",
    "    print(\"Fail\")"
   ]
  },
  {
   "cell_type": "code",
   "execution_count": null,
   "id": "c288580e-89de-408a-8bf9-ab51f706a8e8",
   "metadata": {},
   "outputs": [],
   "source": [
    "7.Scenario: A retail store offers a 20% discount if a customer’s total order exceeds \n",
    "$100. "
   ]
  },
  {
   "cell_type": "code",
   "execution_count": 58,
   "id": "009d2cad-1b20-4a55-9589-c64c930eb5d1",
   "metadata": {},
   "outputs": [
    {
     "name": "stdout",
     "output_type": "stream",
     "text": [
      "Enter your total order amount: $ 900\n",
      "Final amount to be paid:$ 720.0\n"
     ]
    }
   ],
   "source": [
    "TotalOrder =900\n",
    "print(\"Enter your total order amount: $\",TotalOrder)\n",
    "if (TotalOrder>100):\n",
    "    discount=TotalOrder*0.20\n",
    "    FinalAmount=TotalOrder-discount\n",
    "else:\n",
    "    FinalAmount=TotalOrder\n",
    "print(\"Final amount to be paid:$\",FinalAmount)"
   ]
  },
  {
   "cell_type": "code",
   "execution_count": null,
   "id": "8bc689d3-ab4c-46ab-8cb6-42ff5b8aa625",
   "metadata": {},
   "outputs": [],
   "source": [
    "8. Scenario: A banking system processes withdrawal requests and ensures the user \n",
    "has enough balance. "
   ]
  },
  {
   "cell_type": "code",
   "execution_count": 60,
   "id": "606bf3c1-17ac-4465-8457-6e880a2dab07",
   "metadata": {},
   "outputs": [
    {
     "name": "stdin",
     "output_type": "stream",
     "text": [
      "Enter your account balance: $ 621\n",
      "Enter withdrawal amount: $ 200\n"
     ]
    },
    {
     "name": "stdout",
     "output_type": "stream",
     "text": [
      "Withdrawal successful! Updated balance: $421.00\n"
     ]
    }
   ],
   "source": [
    "\n",
    "balance = float(input(\"Enter your account balance: $\"))\n",
    "withdrawal_amount = float(input(\"Enter withdrawal amount: $\"))\n",
    "if (withdrawal_amount <= balance):\n",
    "    balance -= withdrawal_amount  # Deduct withdrawal amount\n",
    "    print(f\"Withdrawal successful! Updated balance: ${balance:.2f}\")\n",
    "else:\n",
    "    print(\"Insufficient funds.\")\n",
    "\n"
   ]
  },
  {
   "cell_type": "code",
   "execution_count": null,
   "id": "17968047-c054-40bb-808a-f40ca6e35187",
   "metadata": {},
   "outputs": [],
   "source": [
    "9. Scenario: A calendar system verifies whether a given year is a leap year based on \n",
    "standard leap year rules."
   ]
  },
  {
   "cell_type": "code",
   "execution_count": 7,
   "id": "5bdd2b67-5d4c-4eaa-bed4-54174b1cdab1",
   "metadata": {},
   "outputs": [
    {
     "name": "stdin",
     "output_type": "stream",
     "text": [
      "Enter a year:  2006\n"
     ]
    },
    {
     "name": "stdout",
     "output_type": "stream",
     "text": [
      "Enter a year:  2006\n",
      "Not a Leap Year\n"
     ]
    }
   ],
   "source": [
    "\n",
    "year = int(input(\"Enter a year: \"))\n",
    "print(\"Enter a year: \",year)\n",
    "\n",
    "if year % 400 == 0:\n",
    "    print(\"Leap Year\")\n",
    "elif year % 100 == 0:\n",
    "    print(\"Not a Leap Year\")\n",
    "elif year % 4 == 0:\n",
    "    print(\"Leap Year\")\n",
    "else:\n",
    "    print(\"Not a Leap Year\")\n"
   ]
  },
  {
   "cell_type": "code",
   "execution_count": null,
   "id": "2ca60ef2-5636-4cad-a166-099ac0dccf2c",
   "metadata": {},
   "outputs": [],
   "source": [
    "10. Scenario: A program filters out only even numbers from a given list"
   ]
  },
  {
   "cell_type": "code",
   "execution_count": 13,
   "id": "1516a9d5-6488-45bf-8192-72568381a271",
   "metadata": {},
   "outputs": [
    {
     "name": "stdout",
     "output_type": "stream",
     "text": [
      "Even numbers: [12, 4, 10, 2]\n"
     ]
    }
   ],
   "source": [
    "numbers = [12, 9, 4, 7, 10, 15, 2]\n",
    "\n",
    "even_numbers = []\n",
    "for num in numbers:\n",
    "    if num % 2 == 0:\n",
    "        even_numbers.append(num)\n",
    "print(\"Even numbers:\", even_numbers)\n"
   ]
  },
  {
   "cell_type": "code",
   "execution_count": null,
   "id": "638a2349-0efb-4baa-ab8d-0d3b99b08c00",
   "metadata": {},
   "outputs": [],
   "source": []
  }
 ],
 "metadata": {
  "kernelspec": {
   "display_name": "Python [conda env:base] *",
   "language": "python",
   "name": "conda-base-py"
  },
  "language_info": {
   "codemirror_mode": {
    "name": "ipython",
    "version": 3
   },
   "file_extension": ".py",
   "mimetype": "text/x-python",
   "name": "python",
   "nbconvert_exporter": "python",
   "pygments_lexer": "ipython3",
   "version": "3.12.7"
  }
 },
 "nbformat": 4,
 "nbformat_minor": 5
}
