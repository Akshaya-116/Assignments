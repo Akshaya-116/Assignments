{
 "cells": [
  {
   "cell_type": "code",
   "execution_count": null,
   "id": "3910311e-7df6-47c9-a33d-4f39e6e2485b",
   "metadata": {},
   "outputs": [],
   "source": [
    " # print 0 to 20 by using range "
   ]
  },
  {
   "cell_type": "code",
   "execution_count": 2,
   "id": "837f43e8-8a28-4745-ac6a-dad8650d2a8b",
   "metadata": {},
   "outputs": [
    {
     "name": "stdout",
     "output_type": "stream",
     "text": [
      "0\n",
      "1\n",
      "2\n",
      "3\n",
      "4\n",
      "5\n",
      "6\n",
      "7\n",
      "8\n",
      "9\n",
      "10\n",
      "11\n",
      "12\n",
      "13\n",
      "14\n",
      "15\n",
      "16\n",
      "17\n",
      "18\n",
      "19\n"
     ]
    }
   ],
   "source": [
    "for num in range(0,20):\n",
    "    print(num)"
   ]
  },
  {
   "cell_type": "code",
   "execution_count": null,
   "id": "eb97a56b-648f-4489-bc6c-f0607c341867",
   "metadata": {},
   "outputs": [],
   "source": [
    " # print range 10 to 20 "
   ]
  },
  {
   "cell_type": "code",
   "execution_count": 28,
   "id": "22fc4a86-6154-4def-a5a8-e11971584e75",
   "metadata": {},
   "outputs": [
    {
     "name": "stdout",
     "output_type": "stream",
     "text": [
      "10\n",
      "11\n",
      "12\n",
      "13\n",
      "14\n",
      "15\n",
      "16\n",
      "17\n",
      "18\n",
      "19\n"
     ]
    }
   ],
   "source": [
    "for num in range(10,20):\n",
    "    print(num)"
   ]
  },
  {
   "cell_type": "code",
   "execution_count": null,
   "id": "75ab421c-4a09-4489-b5ef-f09d4da54af7",
   "metadata": {},
   "outputs": [],
   "source": [
    " # Print number of items in the list by using 'len' "
   ]
  },
  {
   "cell_type": "code",
   "execution_count": 18,
   "id": "79989d87-152a-4014-8809-b9ee2e7c063d",
   "metadata": {},
   "outputs": [],
   "source": [
    "numbers=[10, 20, 14, 55, 43, 87, 76]"
   ]
  },
  {
   "cell_type": "code",
   "execution_count": 24,
   "id": "4a60b23e-0659-4b4c-92d1-32f95c70d2b5",
   "metadata": {},
   "outputs": [
    {
     "name": "stdout",
     "output_type": "stream",
     "text": [
      "[10, 20, 14, 55, 43, 87, 76]\n",
      "Number of item in the List2: 7\n"
     ]
    }
   ],
   "source": [
    "print(numbers)\n",
    "print(\"Number of item in the List2:\",len(numbers))"
   ]
  },
  {
   "cell_type": "code",
   "execution_count": 40,
   "id": "005212b3-32a6-453f-9bbd-6bf451ebe0e3",
   "metadata": {},
   "outputs": [],
   "source": [
    "text=\"Artificial Intelligence\"\n"
   ]
  },
  {
   "cell_type": "code",
   "execution_count": 44,
   "id": "67fd7f32-015a-4ff3-b26d-a9fb4e386053",
   "metadata": {},
   "outputs": [
    {
     "name": "stdout",
     "output_type": "stream",
     "text": [
      "Artificial Intelligence\n",
      "A\n",
      "r\n",
      "t\n",
      "i\n",
      "f\n",
      "i\n",
      "c\n",
      "i\n",
      "a\n",
      "l\n",
      " \n",
      "I\n",
      "n\n",
      "t\n",
      "e\n",
      "l\n",
      "l\n",
      "i\n",
      "g\n",
      "e\n",
      "n\n",
      "c\n",
      "e\n"
     ]
    }
   ],
   "source": [
    "print(text)\n",
    "for char in text:\n",
    "    print(char)"
   ]
  },
  {
   "cell_type": "code",
   "execution_count": null,
   "id": "8887fcec-3638-4c9c-be84-a5c059b39d80",
   "metadata": {},
   "outputs": [],
   "source": [
    "# Refer this link : https://www.geeksforgeeks.org/python-tuples/ \n",
    "# Print yhis mixered datatype using Tuples "
   ]
  },
  {
   "cell_type": "code",
   "execution_count": 46,
   "id": "dae3d8c7-8e8a-4f3a-9810-2d6b0b4e0cb0",
   "metadata": {},
   "outputs": [
    {
     "name": "stdout",
     "output_type": "stream",
     "text": [
      "(1, 'Welcome', 2, 'Hope')\n"
     ]
    }
   ],
   "source": [
    "tup=(1, 'Welcome', 2, 'Hope') \n",
    "print (tup)"
   ]
  },
  {
   "cell_type": "code",
   "execution_count": 58,
   "id": "02bf629f-7caa-4119-a0b7-4d48fa7abb2b",
   "metadata": {},
   "outputs": [
    {
     "name": "stdout",
     "output_type": "stream",
     "text": [
      "((0, 1, 2, 3), ('Python', 'Hope'))\n"
     ]
    }
   ],
   "source": [
    "tup1 = (0, 1, 2, 3)\n",
    "tup2 =('Python','Hope')\n",
    "tup3= (tup1, tup2)\n",
    "print(tup3)"
   ]
  },
  {
   "cell_type": "code",
   "execution_count": null,
   "id": "b975dd3a-6d5d-4c7a-aa54-b3628feee894",
   "metadata": {},
   "outputs": [],
   "source": [
    "# print Odd Numbers in the list "
   ]
  },
  {
   "cell_type": "code",
   "execution_count": 60,
   "id": "1f968561-d7e2-49cb-a3d1-ee7317fd81e0",
   "metadata": {},
   "outputs": [],
   "source": [
    "list=(20,10,16,19,25,1,276,188) "
   ]
  },
  {
   "cell_type": "code",
   "execution_count": 72,
   "id": "aa81f079-d784-47bf-94e2-e66ac7a5c9c9",
   "metadata": {},
   "outputs": [
    {
     "name": "stdout",
     "output_type": "stream",
     "text": [
      "19is odd\n",
      "25is odd\n",
      "1is odd\n"
     ]
    }
   ],
   "source": [
    "for num in list:\n",
    "    if num%2==1:\n",
    "     print(f\"{num}is odd\")"
   ]
  },
  {
   "cell_type": "code",
   "execution_count": null,
   "id": "ff6d6db7-2e2e-4980-9c71-e0986b72ae6b",
   "metadata": {},
   "outputs": [],
   "source": [
    "# print Even numbers in the list"
   ]
  },
  {
   "cell_type": "code",
   "execution_count": 74,
   "id": "ffb860be-7431-450a-9256-75c09a0b69f8",
   "metadata": {},
   "outputs": [
    {
     "name": "stdout",
     "output_type": "stream",
     "text": [
      "20is even\n",
      "10is even\n",
      "16is even\n",
      "276is even\n",
      "188is even\n"
     ]
    }
   ],
   "source": [
    "for num in list:\n",
    "    if num%2==0:\n",
    "     print(f\"{num}is even\")"
   ]
  },
  {
   "cell_type": "code",
   "execution_count": null,
   "id": "80a17240-7d9b-49cf-9153-e0d1b3eb62f3",
   "metadata": {},
   "outputs": [],
   "source": []
  }
 ],
 "metadata": {
  "kernelspec": {
   "display_name": "Python [conda env:base] *",
   "language": "python",
   "name": "conda-base-py"
  },
  "language_info": {
   "codemirror_mode": {
    "name": "ipython",
    "version": 3
   },
   "file_extension": ".py",
   "mimetype": "text/x-python",
   "name": "python",
   "nbconvert_exporter": "python",
   "pygments_lexer": "ipython3",
   "version": "3.12.7"
  }
 },
 "nbformat": 4,
 "nbformat_minor": 5
}
