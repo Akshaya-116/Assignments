{
 "cells": [
  {
   "cell_type": "code",
   "execution_count": 1,
   "id": "b49c4e42-b492-4d92-89c5-524c78c6717b",
   "metadata": {},
   "outputs": [
    {
     "name": "stdin",
     "output_type": "stream",
     "text": [
      "Enter the password: HOPE2123\n"
     ]
    }
   ],
   "source": [
    "password=input(\"Enter the password:\")\n"
   ]
  },
  {
   "cell_type": "code",
   "execution_count": 2,
   "id": "fe7178a9-ff61-4373-b16d-65e1e23e527f",
   "metadata": {},
   "outputs": [
    {
     "name": "stdout",
     "output_type": "stream",
     "text": [
      "Your password is incorrect\n"
     ]
    }
   ],
   "source": [
    "if(password==\"HOPE@123\"):\n",
    "    print(\"Your password is correct \")\n",
    "else:\n",
    "    print(\"Your password is incorrect\")"
   ]
  },
  {
   "cell_type": "code",
   "execution_count": 3,
   "id": "74255dc5-4785-4b89-ac57-4f599fe5c171",
   "metadata": {},
   "outputs": [
    {
     "name": "stdin",
     "output_type": "stream",
     "text": [
      "Enter any number: 1\n"
     ]
    }
   ],
   "source": [
    "num=int(input(\"Enter any number:\"))\n"
   ]
  },
  {
   "cell_type": "code",
   "execution_count": 10,
   "id": "a5cee199-f3c4-4ce4-ad79-5ded4b5f56ed",
   "metadata": {},
   "outputs": [
    {
     "name": "stdout",
     "output_type": "stream",
     "text": [
      "No is positive \n"
     ]
    }
   ],
   "source": [
    "if(num>0):\n",
    "        print(\"No is positive \")\n",
    "else:\n",
    "        print(\"No is negative\") "
   ]
  },
  {
   "cell_type": "code",
   "execution_count": null,
   "id": "227d632d-3cbb-4597-801a-1e75c8703bd0",
   "metadata": {},
   "outputs": [],
   "source": []
  }
 ],
 "metadata": {
  "kernelspec": {
   "display_name": "Python [conda env:base] *",
   "language": "python",
   "name": "conda-base-py"
  },
  "language_info": {
   "codemirror_mode": {
    "name": "ipython",
    "version": 3
   },
   "file_extension": ".py",
   "mimetype": "text/x-python",
   "name": "python",
   "nbconvert_exporter": "python",
   "pygments_lexer": "ipython3",
   "version": "3.12.7"
  }
 },
 "nbformat": 4,
 "nbformat_minor": 5
}
