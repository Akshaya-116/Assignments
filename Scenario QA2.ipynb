{
 "cells": [
  {
   "cell_type": "code",
   "execution_count": null,
   "id": "e65aa2bd-9a02-4586-a36a-8ffd9889fb2d",
   "metadata": {},
   "outputs": [],
   "source": [
    "1.Scenario: You are developing a banking application that categorizes \n",
    "transactions based on the amount entered. \n",
    "Write logic to determine whether the amount is positive, negative, or zero. "
   ]
  },
  {
   "cell_type": "code",
   "execution_count": 7,
   "id": "e5c5024f-e803-4995-bc24-995cd7985b1f",
   "metadata": {},
   "outputs": [
    {
     "name": "stdout",
     "output_type": "stream",
     "text": [
      "Enter the Amount: 90000\n",
      "Positive (Deposit)\n"
     ]
    }
   ],
   "source": [
    "\n",
    "num = 90000\n",
    "print(\"Enter the Amount:\",num)\n",
    "if num > 0:\n",
    "    print(\"Positive (Deposit)\")\n",
    "elif num < 0:\n",
    "    print(\"Negative (Withdrawal)\")\n",
    "else:\n",
    "    print(\"Zero (No Transaction)\")\n"
   ]
  },
  {
   "cell_type": "code",
   "execution_count": null,
   "id": "7e75fd5b-fdb2-40f9-b9c5-369aa008c37d",
   "metadata": {},
   "outputs": [],
   "source": [
    "2. Scenario: A digital locker requires users to enter a numerical passcode. As \n",
    "part of a security feature, the system checks the sum of the digits of the \n",
    "passcode. \n",
    "Write logic to compute the sum of the digits of a given number."
   ]
  },
  {
   "cell_type": "code",
   "execution_count": 7,
   "id": "a4d8010d-4c30-4b84-b04d-7208d4a723d7",
   "metadata": {},
   "outputs": [],
   "source": [
    "def sum_of_digits():\n",
    "    number = int(input(\"Enter a number: \"))\n",
    "    print(\"Enter a number: \",number)\n",
    "    digit_sum=0 \n",
    "    for digit in str(number):\n",
    "     digit_sum+=int(digit)\n",
    "    print(\"Sum of the digits:\", digit_sum)\n",
    " "
   ]
  },
  {
   "cell_type": "code",
   "execution_count": 9,
   "id": "6550218d-182a-4c73-bd38-b2c259060fb8",
   "metadata": {},
   "outputs": [
    {
     "name": "stdin",
     "output_type": "stream",
     "text": [
      "Enter a number:  895\n"
     ]
    },
    {
     "name": "stdout",
     "output_type": "stream",
     "text": [
      "Enter a number:  895\n",
      "Sum of the digits: 22\n"
     ]
    }
   ],
   "source": [
    "sum_of_digits()"
   ]
  },
  {
   "cell_type": "code",
   "execution_count": null,
   "id": "f5a3b1f0-af1c-4851-b118-aed2ce3265dd",
   "metadata": {},
   "outputs": [],
   "source": [
    "3. Scenario: A mobile payment app uses a simple checksum validation where \n",
    "reversing a transaction ID helps detect fraud. \n",
    "Write logic to take a number and return its reverse"
   ]
  },
  {
   "cell_type": "code",
   "execution_count": 37,
   "id": "ea250e10-dacb-4439-b53f-7dd9237f1257",
   "metadata": {},
   "outputs": [
    {
     "name": "stdin",
     "output_type": "stream",
     "text": [
      "Enter a transaction ID:  65831\n"
     ]
    },
    {
     "name": "stdout",
     "output_type": "stream",
     "text": [
      "Enter a transaction ID: 65831\n",
      "Reversed  transaction ID: 13856\n"
     ]
    }
   ],
   "source": [
    "ID=input(\"Enter a transaction ID: \")\n",
    "print(\"Enter a transaction ID:\",ID)\n",
    "reversed_id=int(ID[::-1])\n",
    "print(\"Reversed  transaction ID:\",reversed_id)\n"
   ]
  },
  {
   "cell_type": "code",
   "execution_count": null,
   "id": "d669b627-7a73-442c-b716-d29cc6954aa5",
   "metadata": {},
   "outputs": [],
   "source": [
    "4. Scenario: In a secure login system, certain features are enabled only for userswith prime-numbered user IDs. \n",
    "Write logic to check if a given number is prime. \n"
   ]
  },
  {
   "cell_type": "code",
   "execution_count": 41,
   "id": "616f0c52-4589-4468-a1a0-5fe9089ca6aa",
   "metadata": {},
   "outputs": [
    {
     "name": "stdin",
     "output_type": "stream",
     "text": [
      "Enter a number:  6\n"
     ]
    },
    {
     "name": "stdout",
     "output_type": "stream",
     "text": [
      "Enter a number: 6\n",
      "Not Prime\n"
     ]
    }
   ],
   "source": [
    "num = int(input(\"Enter a number: \"))  \n",
    "print(\"Enter a number:\",num)\n",
    "if num < 2:\n",
    "    print(\"Not Prime\")  \n",
    "elif all(num % i != 0 for i in range(2, int(num**0.5) + 1)):\n",
    "    print(\"Prime\")  \n",
    "else:\n",
    "    print(\"Not Prime\")  \n"
   ]
  },
  {
   "cell_type": "code",
   "execution_count": null,
   "id": "79f09170-6b04-42b8-abdc-3804c73416ca",
   "metadata": {},
   "outputs": [],
   "source": [
    "5.Scenario: A scientist is working on permutations and needs to calculate the \n",
    "factorial of numbers frequently. \n",
    "Write logic to find the factorial of a given number using recursion."
   ]
  },
  {
   "cell_type": "code",
   "execution_count": 9,
   "id": "44c3117c-c968-4aba-b5b0-ef85c434062a",
   "metadata": {},
   "outputs": [
    {
     "name": "stdin",
     "output_type": "stream",
     "text": [
      "Enter a number: 5\n"
     ]
    },
    {
     "name": "stdout",
     "output_type": "stream",
     "text": [
      "Enter a number: 5\n",
      "Factorial of 5 is 120\n"
     ]
    }
   ],
   "source": [
    "def factorial(n):\n",
    "   if  n<=1:\n",
    "      return 1\n",
    "   return n*factorial(n-1)\n",
    "num=int(input(\"Enter a number:\"))\n",
    "print(\"Enter a number:\",num)\n",
    "print(f\"Factorial of {num} is {factorial(num)}\")"
   ]
  },
  {
   "cell_type": "code",
   "execution_count": null,
   "id": "e184859e-68b3-4cd5-8d17-1818e6b55417",
   "metadata": {},
   "outputs": [],
   "source": [
    "6. Scenario: A unique lottery system assigns ticket numbers where only \n",
    "Armstrong numbers win the jackpot. \n",
    "Write logic to check whether a given number is an Armstrong number."
   ]
  },
  {
   "cell_type": "code",
   "execution_count": 13,
   "id": "5c41eeec-ce73-470a-956f-47565cbfe0cf",
   "metadata": {},
   "outputs": [
    {
     "name": "stdin",
     "output_type": "stream",
     "text": [
      "Enter a number:  134\n"
     ]
    },
    {
     "name": "stdout",
     "output_type": "stream",
     "text": [
      "Enter a number:  134\n",
      "134 is NOT an Armstrong number.\n"
     ]
    }
   ],
   "source": [
    "def is_armstrong(num):\n",
    "    order = len(str(num))  \n",
    "    sum_digits = sum(int(digit) ** order for digit in str(num))  \n",
    "    return num == sum_digits  \n",
    "num = int(input(\"Enter a number: \"))\n",
    "print(\"Enter a number: \",num)\n",
    "if is_armstrong(num):\n",
    "    print(f\"{num} is an Armstrong number\")\n",
    "else:\n",
    "    print(f\"{num} is NOT an Armstrong number.\")\n"
   ]
  },
  {
   "cell_type": "code",
   "execution_count": null,
   "id": "6bbeecad-f018-4f66-93a6-51e8f5c2c5b8",
   "metadata": {},
   "outputs": [],
   "source": [
    "7. Scenario: A password manager needs to strengthen weak passwords by \n",
    "swapping the first and last characters of user-generated passwords. "
   ]
  },
  {
   "cell_type": "code",
   "execution_count": 15,
   "id": "79ab09be-8c5f-464a-948d-4a2d7f0e3757",
   "metadata": {},
   "outputs": [
    {
     "name": "stdin",
     "output_type": "stream",
     "text": [
      "Enter a string:  Apslw\n"
     ]
    },
    {
     "name": "stdout",
     "output_type": "stream",
     "text": [
      "Modified string: wpslA\n"
     ]
    }
   ],
   "source": [
    "def swap_first_last(s):\n",
    "    if len(s) < 2:  \n",
    "        return s\n",
    "    return s[-1] + s[1:-1] + s[0] \n",
    "string = input(\"Enter a string: \")\n",
    "print(\"Modified string:\", swap_first_last(string))\n"
   ]
  },
  {
   "cell_type": "code",
   "execution_count": null,
   "id": "60082324-44d2-4364-a044-0f4172e88c66",
   "metadata": {},
   "outputs": [],
   "source": [
    "8. Scenario: A low-level networking application requires decimal numbers to be \n",
    "converted into binary format before transmission. \n",
    "Write logic to convert a given decimal number into its binary equivalent. "
   ]
  },
  {
   "cell_type": "code",
   "execution_count": 3,
   "id": "254fb239-4a16-4494-aab2-8ff6b88b0f1d",
   "metadata": {},
   "outputs": [
    {
     "name": "stdin",
     "output_type": "stream",
     "text": [
      "Enter a number: 17\n"
     ]
    },
    {
     "name": "stdout",
     "output_type": "stream",
     "text": [
      "Enter a number: 17\n",
      "Binary Representation: 10001\n"
     ]
    }
   ],
   "source": [
    "num=int(input(\"Enter a number:\"))\n",
    "print(\"Enter a number:\",num)\n",
    "binary=\"\"\n",
    "\n",
    "if num==0:\n",
    "    binary=\"0\"\n",
    "else:\n",
    "    while num>0:\n",
    "     remainder=num%2\n",
    "     binary += str(remainder)\n",
    "     num=num//2   \n",
    "\n",
    "binary=binary[::-1]\n",
    "\n",
    "print(\"Binary Representation:\",binary)"
   ]
  },
  {
   "cell_type": "code",
   "execution_count": null,
   "id": "1b9b77ce-1e97-4689-b102-5a92b77ec68c",
   "metadata": {},
   "outputs": [],
   "source": [
    "9. Scenario: A text-processing tool helps summarize articles by identifying the \n",
    "most significant words. \n",
    "Write logic to find the longest word in a sentence. "
   ]
  },
  {
   "cell_type": "code",
   "execution_count": null,
   "id": "f12bef14-cc1e-4eb0-873a-093db0c3d4b6",
   "metadata": {},
   "outputs": [],
   "source": [
    "def longest_word(sentence):\n",
    "    words=sentence.split()\n",
    "    longest_word=\"\"\n",
    "   \n",
    "    for word in words:\n",
    "        if len(word)>len(longest_word):\n",
    "            longest_word=word\n",
    "            \n",
    "    return longest_word\n"
   ]
  },
  {
   "cell_type": "code",
   "execution_count": 29,
   "id": "d685a12b-d2b5-4cd7-824f-dbce6ae2ea78",
   "metadata": {},
   "outputs": [
    {
     "name": "stdout",
     "output_type": "stream",
     "text": [
      "Longest word: beautiful\n"
     ]
    },
    {
     "data": {
      "text/plain": [
       "'beautiful'"
      ]
     },
     "execution_count": 29,
     "metadata": {},
     "output_type": "execute_result"
    }
   ],
   "source": [
    " sentence=\"The sky is beautiful\"\n",
    "print (\"Longest word:\",longest_word(sentence))\n",
    "longest_word(sentence)"
   ]
  },
  {
   "cell_type": "code",
   "execution_count": null,
   "id": "5554056a-6874-4fd7-a850-feb3e2e6d159",
   "metadata": {},
   "outputs": [],
   "source": [
    "10. \n",
    "Scenario: A plagiarism detection tool compares words from different \n",
    "documents and checks if they are anagrams (same characters but different \n",
    "order). \n",
    "Write logic to check whether two given strings are anagrams. "
   ]
  },
  {
   "cell_type": "code",
   "execution_count": 5,
   "id": "f79ea336-e2e2-4f69-ae09-db67f11b4363",
   "metadata": {},
   "outputs": [
    {
     "name": "stdin",
     "output_type": "stream",
     "text": [
      "Enter the first string: Heart\n",
      "Enter the second string:  Earth\n"
     ]
    },
    {
     "name": "stdout",
     "output_type": "stream",
     "text": [
      "Enter the first string: Heart\n",
      "Enter the second string: Earth\n",
      "Anagram\n"
     ]
    }
   ],
   "source": [
    "str1=input(\"Enter the first string:\")\n",
    "str2=input(\"Enter the second string: \")\n",
    "print(\"Enter the first string:\",str1)\n",
    "print(\"Enter the second string:\",str2)\n",
    "\n",
    "str1=str1.replace(\"\",\"\").lower()\n",
    "str2=str2.replace(\"\",\"\").lower()\n",
    "\n",
    "sorted_str1=sorted(str1)\n",
    "sorted_str2=sorted(str2)\n",
    "\n",
    "if sorted_str1==sorted_str2:\n",
    "  print(\"Anagram\")\n",
    "else:\n",
    "    print(\"Not a Anagram\")"
   ]
  },
  {
   "cell_type": "code",
   "execution_count": null,
   "id": "a6ba0b86-9073-4e76-997d-cc4138ee0a6c",
   "metadata": {},
   "outputs": [],
   "source": []
  }
 ],
 "metadata": {
  "kernelspec": {
   "display_name": "Python [conda env:base] *",
   "language": "python",
   "name": "conda-base-py"
  },
  "language_info": {
   "codemirror_mode": {
    "name": "ipython",
    "version": 3
   },
   "file_extension": ".py",
   "mimetype": "text/x-python",
   "name": "python",
   "nbconvert_exporter": "python",
   "pygments_lexer": "ipython3",
   "version": "3.12.7"
  }
 },
 "nbformat": 4,
 "nbformat_minor": 5
}
