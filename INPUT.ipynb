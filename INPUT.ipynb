{
 "cells": [
  {
   "cell_type": "code",
   "execution_count": 4,
   "id": "16781973-424d-45ac-b659-4b190c3d256c",
   "metadata": {},
   "outputs": [
    {
     "name": "stdout",
     "output_type": "stream",
     "text": [
      "Enter your password: MySecret123\n",
      "Your password is incorrect\n"
     ]
    }
   ],
   "source": [
    "password = \"MySecret123\"\n",
    "print(\"Enter your password:\",password)\n",
    "if(password==\"HOPE@123\"):\n",
    "    print(\"Your password is correct \")\n",
    "else:\n",
    "    print(\"Your password is incorrect\")\n"
   ]
  },
  {
   "cell_type": "code",
   "execution_count": null,
   "id": "d752d728-2c0e-4422-ad12-e15dd4642313",
   "metadata": {},
   "outputs": [],
   "source": []
  }
 ],
 "metadata": {
  "kernelspec": {
   "display_name": "Python [conda env:base] *",
   "language": "python",
   "name": "conda-base-py"
  },
  "language_info": {
   "codemirror_mode": {
    "name": "ipython",
    "version": 3
   },
   "file_extension": ".py",
   "mimetype": "text/x-python",
   "name": "python",
   "nbconvert_exporter": "python",
   "pygments_lexer": "ipython3",
   "version": "3.12.7"
  }
 },
 "nbformat": 4,
 "nbformat_minor": 5
}
