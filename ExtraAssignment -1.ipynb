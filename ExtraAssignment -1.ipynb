{
 "cells": [
  {
   "cell_type": "code",
   "execution_count": null,
   "id": "1be8da75-217e-4731-ae34-1e3e58783b35",
   "metadata": {},
   "outputs": [],
   "source": [
    " #print Statement"
   ]
  },
  {
   "cell_type": "code",
   "execution_count": 51,
   "id": "f656304b-4a57-44d1-ab56-3d7f346a88ae",
   "metadata": {},
   "outputs": [
    {
     "name": "stdout",
     "output_type": "stream",
     "text": [
      "HOPE AI\n"
     ]
    }
   ],
   "source": [
    "print(\"HOPE AI\") "
   ]
  },
  {
   "cell_type": "code",
   "execution_count": null,
   "id": "168dfebc-6485-46ec-9dde-d42d85b5b848",
   "metadata": {},
   "outputs": [],
   "source": [
    " # Buy input  "
   ]
  },
  {
   "cell_type": "code",
   "execution_count": 55,
   "id": "b5182911-150a-4301-be79-0d047339b8cb",
   "metadata": {},
   "outputs": [
    {
     "name": "stdin",
     "output_type": "stream",
     "text": [
      "Enter your institute name? : HOPE AI\n"
     ]
    }
   ],
   "source": [
    "institute_Name=input(\"Enter your institute name? :\")"
   ]
  },
  {
   "cell_type": "code",
   "execution_count": null,
   "id": "ee39b568-5d27-414f-ad02-246f6fefa72e",
   "metadata": {},
   "outputs": [],
   "source": [
    "#Buy inputs"
   ]
  },
  {
   "cell_type": "code",
   "execution_count": 7,
   "id": "7dfd5f72-80e5-47a7-9318-148b43b305cd",
   "metadata": {},
   "outputs": [
    {
     "name": "stdin",
     "output_type": "stream",
     "text": [
      "Enter your name: Raj\n",
      "Enter your age: 15\n",
      "Enter your school name: Guru school\n",
      "Enter your degree:  B.E CSE \n"
     ]
    }
   ],
   "source": [
    "Name=input(\"Enter your name:\")\n",
    "Age=input(\"Enter your age:\")\n",
    "School=input(\"Enter your school name:\")\n",
    "Degree=input(\"Enter your drgree:\")"
   ]
  },
  {
   "cell_type": "code",
   "execution_count": null,
   "id": "c009887e-d475-47cd-956e-51a6835d76fd",
   "metadata": {},
   "outputs": [],
   "source": [
    "#Addition "
   ]
  },
  {
   "cell_type": "code",
   "execution_count": 9,
   "id": "a78e2df8-acbe-421b-96d1-19f0c8e39238",
   "metadata": {},
   "outputs": [],
   "source": [
    "a=43\n",
    "b=34\n",
    "add=a+b"
   ]
  },
  {
   "cell_type": "code",
   "execution_count": 11,
   "id": "ab7a03cc-e62f-4440-ade0-86d008ad80ea",
   "metadata": {},
   "outputs": [
    {
     "name": "stdout",
     "output_type": "stream",
     "text": [
      "a= 43\n",
      "b= 34\n",
      "add= 77\n"
     ]
    }
   ],
   "source": [
    "print(\"a=\",a)\n",
    "print(\"b=\",b)\n",
    "print(\"add=\",add)"
   ]
  },
  {
   "cell_type": "code",
   "execution_count": null,
   "id": "6431485b-aee7-4a9e-9dd1-f80ea77634a6",
   "metadata": {},
   "outputs": [],
   "source": [
    "#Subtraction "
   ]
  },
  {
   "cell_type": "code",
   "execution_count": 13,
   "id": "0a1e9430-2dfc-4150-91ef-a15f45ce4d32",
   "metadata": {},
   "outputs": [],
   "source": [
    "sub=a-b"
   ]
  },
  {
   "cell_type": "code",
   "execution_count": 15,
   "id": "7a45ebce-ab94-401b-b287-5c1a64d01955",
   "metadata": {},
   "outputs": [
    {
     "name": "stdout",
     "output_type": "stream",
     "text": [
      "a= 43\n",
      "b= 34\n",
      "sub= 9\n"
     ]
    }
   ],
   "source": [
    "print(\"a=\",a)\n",
    "print(\"b=\",b)\n",
    "print(\"sub=\",sub)"
   ]
  },
  {
   "cell_type": "code",
   "execution_count": null,
   "id": "1b14780b-ddbe-4cc6-8dba-308e42ac0f75",
   "metadata": {},
   "outputs": [],
   "source": [
    "#Multiplication "
   ]
  },
  {
   "cell_type": "code",
   "execution_count": 17,
   "id": "b4ac9c14-a51d-4259-8cd9-3394dc7e6987",
   "metadata": {},
   "outputs": [],
   "source": [
    "a= 63 \n",
    "b= 97 \n",
    "Mul =a*b"
   ]
  },
  {
   "cell_type": "code",
   "execution_count": 19,
   "id": "27f5de13-f13c-4146-be07-2f828ae61530",
   "metadata": {},
   "outputs": [
    {
     "name": "stdout",
     "output_type": "stream",
     "text": [
      "a= 63\n",
      "b= 97\n",
      "Mul= 6111\n"
     ]
    }
   ],
   "source": [
    "print(\"a=\",a)\n",
    "print(\"b=\",b)\n",
    "print(\"Mul=\",Mul)"
   ]
  },
  {
   "cell_type": "code",
   "execution_count": null,
   "id": "88de4cfa-c59f-40c9-88f6-7da555e3acf1",
   "metadata": {},
   "outputs": [],
   "source": [
    "#Division "
   ]
  },
  {
   "cell_type": "code",
   "execution_count": 35,
   "id": "4e7f6d57-037f-479d-9ebb-205748cbcf81",
   "metadata": {},
   "outputs": [],
   "source": [
    "a= 76 \n",
    "b= 31 \n",
    "FloatDiv =a/b"
   ]
  },
  {
   "cell_type": "code",
   "execution_count": 31,
   "id": "2dfbdecd-1d29-4694-860b-2687364c15c1",
   "metadata": {},
   "outputs": [
    {
     "name": "stdout",
     "output_type": "stream",
     "text": [
      "a= 76\n",
      "b= 31\n",
      "FloatDiv= 2.4516129032258065\n"
     ]
    }
   ],
   "source": [
    "print(\"a=\",a)\n",
    "print(\"b=\",b)\n",
    "print(\"FloatDiv=\",FloatDiv)"
   ]
  },
  {
   "cell_type": "code",
   "execution_count": null,
   "id": "38d02546-f68c-44a8-bcdc-56f481af40a2",
   "metadata": {},
   "outputs": [],
   "source": [
    "#Floor division "
   ]
  },
  {
   "cell_type": "code",
   "execution_count": 39,
   "id": "81c82fb9-3df0-429f-adc6-7aa1c12f2bf4",
   "metadata": {},
   "outputs": [],
   "source": [
    "FloorDiv =a//b"
   ]
  },
  {
   "cell_type": "code",
   "execution_count": 41,
   "id": "a165387d-d454-4016-bc82-e9f83fe5d85f",
   "metadata": {},
   "outputs": [
    {
     "name": "stdout",
     "output_type": "stream",
     "text": [
      "a= 76\n",
      "b= 31\n",
      "FloorDiv= 2\n"
     ]
    }
   ],
   "source": [
    "print(\"a=\",a)\n",
    "print(\"b=\",b)\n",
    "print(\"FloorDiv=\",FloorDiv)"
   ]
  },
  {
   "cell_type": "code",
   "execution_count": null,
   "id": "484f468d-59d4-40f9-8a5a-cfc28093d1c1",
   "metadata": {},
   "outputs": [],
   "source": [
    "#Modulo"
   ]
  },
  {
   "cell_type": "code",
   "execution_count": 43,
   "id": "a7be4ab0-0082-4636-b28b-cbd37ac16d02",
   "metadata": {},
   "outputs": [],
   "source": [
    "Modulo=a%b"
   ]
  },
  {
   "cell_type": "code",
   "execution_count": 45,
   "id": "3f0bc14f-b4a4-429a-86a2-b7fa8feefa3a",
   "metadata": {},
   "outputs": [
    {
     "name": "stdout",
     "output_type": "stream",
     "text": [
      "a= 76\n",
      "b= 31\n",
      "Modulo= 14\n"
     ]
    }
   ],
   "source": [
    "print(\"a=\",a)\n",
    "print(\"b=\",b)\n",
    "print(\"Modulo=\",Modulo)"
   ]
  },
  {
   "cell_type": "code",
   "execution_count": null,
   "id": "a766f37b-dde3-40dd-a2ed-816827aa691e",
   "metadata": {},
   "outputs": [],
   "source": [
    "#Power"
   ]
  },
  {
   "cell_type": "code",
   "execution_count": 47,
   "id": "3a4255ab-0b80-4054-9f76-a0009ec292c4",
   "metadata": {},
   "outputs": [],
   "source": [
    "a=4\n",
    "b=4\n",
    "c=a**b"
   ]
  },
  {
   "cell_type": "code",
   "execution_count": 49,
   "id": "999d68e2-e873-4f7f-9968-22a8bb202cbf",
   "metadata": {},
   "outputs": [
    {
     "name": "stdout",
     "output_type": "stream",
     "text": [
      "a= 4\n",
      "b= 4\n",
      "Power= 256\n"
     ]
    }
   ],
   "source": [
    "print(\"a=\",a)\n",
    "print(\"b=\",b)\n",
    "print(\"Power=\",Power)"
   ]
  },
  {
   "cell_type": "code",
   "execution_count": null,
   "id": "ec2fc842-0a2e-4a64-9e73-982abb94963b",
   "metadata": {},
   "outputs": [],
   "source": []
  }
 ],
 "metadata": {
  "kernelspec": {
   "display_name": "Python [conda env:base] *",
   "language": "python",
   "name": "conda-base-py"
  },
  "language_info": {
   "codemirror_mode": {
    "name": "ipython",
    "version": 3
   },
   "file_extension": ".py",
   "mimetype": "text/x-python",
   "name": "python",
   "nbconvert_exporter": "python",
   "pygments_lexer": "ipython3",
   "version": "3.12.7"
  }
 },
 "nbformat": 4,
 "nbformat_minor": 5
}
