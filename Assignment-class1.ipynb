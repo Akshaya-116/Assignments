{
 "cells": [
  {
   "cell_type": "code",
   "execution_count": 9,
   "id": "cb7e67c4-ff3f-41a3-aa38-37d31d2ac43c",
   "metadata": {},
   "outputs": [],
   "source": [
    "from VariousFunction import multiplefunctions"
   ]
  },
  {
   "cell_type": "code",
   "execution_count": 15,
   "id": "3a18ca53-7176-448b-ac54-88fc224804df",
   "metadata": {},
   "outputs": [
    {
     "name": "stdout",
     "output_type": "stream",
     "text": [
      "Sub-fields in AI are:\n",
      "Machine Learning\n",
      "Neural Networks\n",
      "Vision\n",
      "Robotics\n",
      "Speech Processing\n",
      "Natural Language Processing\n"
     ]
    }
   ],
   "source": [
    "multiplefunctions.Subfields()"
   ]
  },
  {
   "cell_type": "code",
   "execution_count": 21,
   "id": "fb0465e6-2aee-4481-ab45-fc9d9a89b396",
   "metadata": {},
   "outputs": [
    {
     "name": "stdout",
     "output_type": "stream",
     "text": [
      "65 is odd number\n"
     ]
    }
   ],
   "source": [
    "multiplefunctions.OddEven(65)"
   ]
  },
  {
   "cell_type": "code",
   "execution_count": 23,
   "id": "e20ad2b0-3aa6-4a1f-8dcb-c02bc4a5abbf",
   "metadata": {},
   "outputs": [
    {
     "name": "stdout",
     "output_type": "stream",
     "text": [
      "Your Gender: Male\n",
      "Your Age: 18\n",
      "NOT ELIGIBLE\n"
     ]
    }
   ],
   "source": [
    "multiplefunctions.Elegible()"
   ]
  },
  {
   "cell_type": "code",
   "execution_count": 25,
   "id": "75e0d5e6-286b-403e-a689-989370584a05",
   "metadata": {},
   "outputs": [
    {
     "name": "stdout",
     "output_type": "stream",
     "text": [
      "Enter marks for Subject 1: 23\n",
      "Enter marks for Subject 2: 45\n",
      "Enter marks for Subject 3: 34\n",
      "Enter marks for Subject 4: 23\n",
      "Enter marks for Subject 5: 23\n",
      "Total: 148\n",
      "Percentage: 29.599999999999998\n"
     ]
    }
   ],
   "source": [
    "multiplefunctions.percentage()"
   ]
  },
  {
   "cell_type": "code",
   "execution_count": 27,
   "id": "5c32a24e-1b27-4979-94e5-ecbbf63fe0bb",
   "metadata": {},
   "outputs": [
    {
     "name": "stdout",
     "output_type": "stream",
     "text": [
      "height= 3\n",
      "breadth= 4\n",
      "Area formula: (Height*Breadth)/2 \n",
      "Area of triangle: 6.0\n",
      "height1 = 3\n",
      "height2= 4\n",
      "breadth= 45\n",
      "Perimeter formula: Height1+Height2+Breadth\n",
      "Perimeter of Triangle: 52\n"
     ]
    }
   ],
   "source": [
    "multiplefunctions.triangle()"
   ]
  },
  {
   "cell_type": "code",
   "execution_count": null,
   "id": "98f63f43-3952-40d1-90d8-73fbedf6e483",
   "metadata": {},
   "outputs": [],
   "source": []
  }
 ],
 "metadata": {
  "kernelspec": {
   "display_name": "Python [conda env:base] *",
   "language": "python",
   "name": "conda-base-py"
  },
  "language_info": {
   "codemirror_mode": {
    "name": "ipython",
    "version": 3
   },
   "file_extension": ".py",
   "mimetype": "text/x-python",
   "name": "python",
   "nbconvert_exporter": "python",
   "pygments_lexer": "ipython3",
   "version": "3.12.7"
  }
 },
 "nbformat": 4,
 "nbformat_minor": 5
}
