{
 "cells": [
  {
   "cell_type": "code",
   "execution_count": null,
   "id": "222707a6-a146-414a-b4a9-9974e3c87bcf",
   "metadata": {},
   "outputs": [],
   "source": [
    " # print 'CORRECT' if i == 10"
   ]
  },
  {
   "cell_type": "code",
   "execution_count": 5,
   "id": "993703ac-6ea3-4fb5-855b-72d0bcad44ba",
   "metadata": {},
   "outputs": [],
   "source": [
    "i=10"
   ]
  },
  {
   "cell_type": "code",
   "execution_count": 7,
   "id": "a13f5001-53ab-487b-9faf-c9881dd54807",
   "metadata": {},
   "outputs": [
    {
     "name": "stdout",
     "output_type": "stream",
     "text": [
      "value: 10\n",
      "Correct\n"
     ]
    }
   ],
   "source": [
    "print(\"value:\",i)\n",
    "if(value==10):\n",
    "    print(\"Correct\")"
   ]
  },
  {
   "cell_type": "code",
   "execution_count": null,
   "id": "ad9455d8-77f9-42d7-b557-945349ee171b",
   "metadata": {},
   "outputs": [],
   "source": [
    "# Check the password, using if and else "
   ]
  },
  {
   "cell_type": "code",
   "execution_count": 17,
   "id": "851009cb-1e28-4392-9fe7-e5e86a244874",
   "metadata": {},
   "outputs": [
    {
     "name": "stdin",
     "output_type": "stream",
     "text": [
      "Enter the password: HOPE@123\n"
     ]
    },
    {
     "name": "stdout",
     "output_type": "stream",
     "text": [
      "Your password is correct \n"
     ]
    }
   ],
   "source": [
    "password=input(\"Enter the password:\")\n",
    "if(password==\"HOPE@123\"):\n",
    "    print(\"Your password is correct \")\n",
    "else:\n",
    "    print(\"Your password is incorrect\")"
   ]
  },
  {
   "cell_type": "code",
   "execution_count": null,
   "id": "0dc5941f-344f-4f83-88a7-dbc009114b56",
   "metadata": {},
   "outputs": [],
   "source": [
    ": # Catagory the people by their age like children, adult, citizen, senior citizen..."
   ]
  },
  {
   "cell_type": "code",
   "execution_count": 21,
   "id": "49323434-c1f3-4dee-b378-329f7db8ebc6",
   "metadata": {},
   "outputs": [
    {
     "name": "stdout",
     "output_type": "stream",
     "text": [
      "age: 20\n",
      "Adult\n"
     ]
    }
   ],
   "source": [
    "age=20\n",
    "print(\"age:\",age)\n",
    "if(age<18):\n",
    "    print(\"child\")\n",
    "elif(age<35):\n",
    "    print(\"Adult\")\n",
    "elif(age<59):\n",
    "    print(\"Citizen\")\n",
    "else:\n",
    "    print(\"Senior citizen\")"
   ]
  },
  {
   "cell_type": "code",
   "execution_count": null,
   "id": "99be8aef-fe03-42eb-aafc-edad6f31d525",
   "metadata": {},
   "outputs": [],
   "source": [
    " # Find whether given number is positive or negative"
   ]
  },
  {
   "cell_type": "code",
   "execution_count": 25,
   "id": "72eddd01-eb22-48f8-b794-7b0e182618f5",
   "metadata": {},
   "outputs": [
    {
     "name": "stdin",
     "output_type": "stream",
     "text": [
      "Enter any number: 1\n"
     ]
    },
    {
     "name": "stdout",
     "output_type": "stream",
     "text": [
      "No is positive \n"
     ]
    }
   ],
   "source": [
    "num=int(input(\"Enter any number:\"))\n",
    "if(num>0):\n",
    "        print(\"No is positive \")\n",
    "else:\n",
    "        print(\"No is negative\") \n"
   ]
  },
  {
   "cell_type": "code",
   "execution_count": null,
   "id": "2e09ca34-98d0-4dfc-9d6a-7ffd2d5408c5",
   "metadata": {},
   "outputs": [],
   "source": [
    " # Check whether the given number is divisible by 5 "
   ]
  },
  {
   "cell_type": "code",
   "execution_count": 27,
   "id": "95dedbf6-c013-41fc-9766-3e11d32d0fcb",
   "metadata": {},
   "outputs": [
    {
     "name": "stdin",
     "output_type": "stream",
     "text": [
      "Enter a number to check: 22\n"
     ]
    },
    {
     "name": "stdout",
     "output_type": "stream",
     "text": [
      "No is not divisible by 5\n"
     ]
    }
   ],
   "source": [
    "no=int(input(\"Enter a number to check:\"))\n",
    "if((no%5)==0):\n",
    "    print(\"No is divisible by 5\")\n",
    "else:\n",
    "    print(\"No is not divisible by 5\")"
   ]
  },
  {
   "cell_type": "code",
   "execution_count": null,
   "id": "8782a13a-f10c-43f3-8354-7fb2b664f70d",
   "metadata": {},
   "outputs": [],
   "source": []
  }
 ],
 "metadata": {
  "kernelspec": {
   "display_name": "Python [conda env:base] *",
   "language": "python",
   "name": "conda-base-py"
  },
  "language_info": {
   "codemirror_mode": {
    "name": "ipython",
    "version": 3
   },
   "file_extension": ".py",
   "mimetype": "text/x-python",
   "name": "python",
   "nbconvert_exporter": "python",
   "pygments_lexer": "ipython3",
   "version": "3.12.7"
  }
 },
 "nbformat": 4,
 "nbformat_minor": 5
}
