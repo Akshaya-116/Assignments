{
 "cells": [
  {
   "cell_type": "code",
   "execution_count": 17,
   "id": "053343a7-c1bf-4902-ae81-274934d787b1",
   "metadata": {},
   "outputs": [],
   "source": [
    " # Create a class and function, and list out the items in the list\n",
    "class SubfieldsInAI():\n",
    "  def Subfields():\n",
    "     subfieldlist= [\n",
    "                  \"Machine Learning\",\n",
    "                  \"Neural Networks\", \n",
    "                  \"Vision\",\n",
    "                  \"Robotics\",\n",
    "                  \"Speech Processing\",\n",
    "                  \"Natural Language Processing\"\n",
    "                   ]\n",
    "     print(\"Sub-fields in AI are:\")\n",
    "     for subfields in subfieldlist:\n",
    "      print(subfields)\n"
   ]
  },
  {
   "cell_type": "code",
   "execution_count": 19,
   "id": "aa6abad3-b815-4290-9b3a-a3a6183b07d9",
   "metadata": {},
   "outputs": [
    {
     "name": "stdout",
     "output_type": "stream",
     "text": [
      "Sub-fields in AI are:\n",
      "Machine Learning\n",
      "Neural Networks\n",
      "Vision\n",
      "Robotics\n",
      "Speech Processing\n",
      "Natural Language Processing\n"
     ]
    }
   ],
   "source": [
    "SubfieldsInAI.Subfields()"
   ]
  },
  {
   "cell_type": "code",
   "execution_count": null,
   "id": "30dd7658-7caf-472c-bcb8-df870c27808a",
   "metadata": {},
   "outputs": [],
   "source": [
    "# Create a function that checks whether the given number is Odd or Even"
   ]
  },
  {
   "cell_type": "code",
   "execution_count": 19,
   "id": "f5aebce2-0dd2-4494-838f-9a672028f5a2",
   "metadata": {},
   "outputs": [],
   "source": [
    "class OddEven():\n",
    "    def OddEven(num):\n",
    "     if ((num%2)==0):\n",
    "        print(\"Enter a number:\",num)\n",
    "        print(num,\"is even number\")\n",
    "     else:\n",
    "         print(num,\"is odd number\")\n",
    "         "
   ]
  },
  {
   "cell_type": "code",
   "execution_count": 23,
   "id": "6b4e6e86-456c-4e52-ba4d-489808293f41",
   "metadata": {},
   "outputs": [
    {
     "name": "stdout",
     "output_type": "stream",
     "text": [
      "Enter a number: 52452\n",
      "52452 is even number\n"
     ]
    }
   ],
   "source": [
    "OddEven.OddEven(52452 )"
   ]
  },
  {
   "cell_type": "code",
   "execution_count": null,
   "id": "ba1f4729-135e-4c38-ab21-3c52019d14fd",
   "metadata": {},
   "outputs": [],
   "source": [
    "# Create a function that tells elegibility of marriage for male and female according to thei\n",
    " r age limit like 21 for male and 18 for female "
   ]
  },
  {
   "cell_type": "code",
   "execution_count": 17,
   "id": "8ff53877-2f9d-4691-88f9-c1991b7fc4da",
   "metadata": {},
   "outputs": [],
   "source": [
    "class ElegiblityForMarriage():\n",
    "  def Elegible():\n",
    "    gender=\"Male\"\n",
    "    age=20\n",
    "    print(\"Your Gender:\",gender)\n",
    "    print(\"Your Age:\",age)\n",
    "    if (gender==\"Male\"and age>=21) or(gender==\"Female\"and age>=18):\n",
    "      print(\"ELIGIBLE\")\n",
    "    else:\n",
    "      print(\"NOT ELIGIBLE\")"
   ]
  },
  {
   "cell_type": "code",
   "execution_count": 19,
   "id": "f011fef4-faee-40fe-a5ff-7f717c2ceb81",
   "metadata": {},
   "outputs": [
    {
     "name": "stdout",
     "output_type": "stream",
     "text": [
      "Your Gender: Male\n",
      "Your Age: 20\n",
      "NOT ELIGIBLE\n"
     ]
    }
   ],
   "source": [
    "ElegiblityForMarriage.Elegible()"
   ]
  },
  {
   "cell_type": "code",
   "execution_count": null,
   "id": "21f8c4a1-51f0-47bf-968d-1a09cfb6e904",
   "metadata": {},
   "outputs": [],
   "source": [
    "# calculate the percentage of your 10th mark"
   ]
  },
  {
   "cell_type": "code",
   "execution_count": 1,
   "id": "8af83e66-4ceb-46d2-a17d-a1e7d2d099b4",
   "metadata": {},
   "outputs": [],
   "source": [
    "class FindPercent():\n",
    "    def percentage():\n",
    "        subject1 = 98\n",
    "        subject2 = 87\n",
    "        subject3 = 95\n",
    "        subject4 = 95\n",
    "        subject5 = 93\n",
    "        print(\"Enter marks for Subject 1:\",subject1)\n",
    "        print(\"Enter marks for Subject 2:\",subject2)\n",
    "        print(\"Enter marks for Subject 3:\",subject3)\n",
    "        print(\"Enter marks for Subject 4:\",subject4)\n",
    "        print(\"Enter marks for Subject 5:\",subject5)\n",
    "        total = subject1 + subject2 + subject3 + subject4 + subject5\n",
    "        percentage = (total / 500) * 100\n",
    "        print(\"Total:\", total)\n",
    "        print(\"Percentage:\", percentage)\n",
    "    "
   ]
  },
  {
   "cell_type": "code",
   "execution_count": 3,
   "id": "5f9d0bbd-ab50-4820-aaa6-fd8d4bb7f64c",
   "metadata": {},
   "outputs": [
    {
     "name": "stdout",
     "output_type": "stream",
     "text": [
      "Enter marks for Subject 1: 98\n",
      "Enter marks for Subject 2: 87\n",
      "Enter marks for Subject 3: 95\n",
      "Enter marks for Subject 4: 95\n",
      "Enter marks for Subject 5: 93\n",
      "Total: 468\n",
      "Percentage: 93.60000000000001\n"
     ]
    }
   ],
   "source": [
    "FindPercent.percentage()"
   ]
  },
  {
   "cell_type": "code",
   "execution_count": null,
   "id": "159a5891-7b2f-4447-b3e1-9e9e515bbcad",
   "metadata": {},
   "outputs": [],
   "source": [
    "#print area and perimeter of triangle using class and functions"
   ]
  },
  {
   "cell_type": "code",
   "execution_count": 5,
   "id": "fe8675c1-232e-45e0-ac09-c52f6b3809e7",
   "metadata": {},
   "outputs": [],
   "source": [
    "class triangle():\n",
    "    def triangle():\n",
    "        height = 32\n",
    "        breadth = 34\n",
    "        print(\"height=\",height)\n",
    "        print(\"breadth=\",breadth)\n",
    "        Areaformula=(height*breadth)/2\n",
    "        print(\"Area formula: (Height*Breadth)/2 \")\n",
    "        print(\"Area of triangle:\",Areaformula)\n",
    "        height1 =2\n",
    "        height2 =4\n",
    "        breadth =4\n",
    "        print(\"height1 =\",height1)\n",
    "        print(\"height2=\",height2)\n",
    "        print(\"breadth=\",breadth)\n",
    "        perimeter = height1 + height2 + breadth\n",
    "        print(\"Perimeter formula: Height1+Height2+Breadth\")\n",
    "        print(\"Perimeter of Triangle:\", perimeter)"
   ]
  },
  {
   "cell_type": "code",
   "execution_count": 7,
   "id": "c632633d-3082-4825-8b6b-394fac6b05d9",
   "metadata": {},
   "outputs": [
    {
     "name": "stdout",
     "output_type": "stream",
     "text": [
      "height= 32\n",
      "breadth= 34\n",
      "Area formula: (Height*Breadth)/2 \n",
      "Area of triangle: 544.0\n",
      "height1 = 2\n",
      "height2= 4\n",
      "breadth= 4\n",
      "Perimeter formula: Height1+Height2+Breadth\n",
      "Perimeter of Triangle: 10\n"
     ]
    }
   ],
   "source": [
    "triangle.triangle()"
   ]
  },
  {
   "cell_type": "code",
   "execution_count": null,
   "id": "ec632e0c-7d31-47b6-94f5-142fe739047e",
   "metadata": {},
   "outputs": [],
   "source": []
  }
 ],
 "metadata": {
  "kernelspec": {
   "display_name": "Python [conda env:base] *",
   "language": "python",
   "name": "conda-base-py"
  },
  "language_info": {
   "codemirror_mode": {
    "name": "ipython",
    "version": 3
   },
   "file_extension": ".py",
   "mimetype": "text/x-python",
   "name": "python",
   "nbconvert_exporter": "python",
   "pygments_lexer": "ipython3",
   "version": "3.12.7"
  }
 },
 "nbformat": 4,
 "nbformat_minor": 5
}
